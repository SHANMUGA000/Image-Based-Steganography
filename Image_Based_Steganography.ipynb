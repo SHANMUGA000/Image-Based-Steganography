{
  "nbformat": 4,
  "nbformat_minor": 0,
  "metadata": {
    "colab": {
      "provenance": [],
      "authorship_tag": "ABX9TyNcInQh/Q1RNZRYYp1lG7i/",
      "include_colab_link": true
    },
    "kernelspec": {
      "name": "python3",
      "display_name": "Python 3"
    },
    "language_info": {
      "name": "python"
    }
  },
  "cells": [
    {
      "cell_type": "markdown",
      "metadata": {
        "id": "view-in-github",
        "colab_type": "text"
      },
      "source": [
        "<a href=\"https://colab.research.google.com/github/SHANMUGA000/Image-Based-Steganography/blob/main/Image_Based_Steganography.ipynb\" target=\"_parent\"><img src=\"https://colab.research.google.com/assets/colab-badge.svg\" alt=\"Open In Colab\"/></a>"
      ]
    },
    {
      "cell_type": "code",
      "execution_count": 2,
      "metadata": {
        "colab": {
          "base_uri": "https://localhost:8080/"
        },
        "id": "JrjT2K27WeEr",
        "outputId": "5d824e06-2b2e-428e-bb81-d3eec5924be3"
      },
      "outputs": [
        {
          "output_type": "stream",
          "name": "stdout",
          "text": [
            "Message encoded successfully.\n"
          ]
        }
      ],
      "source": [
        "from PIL import Image\n",
        "\n",
        "# Function to encode a text message into an image\n",
        "def encode_text(image_path, message, output_path):\n",
        "    img = Image.open('/content/image.jfif')\n",
        "    width, height = img.size\n",
        "\n",
        "    # Convert the text message to binary\n",
        "    binary_message = ''.join(format(ord(char), '08b') for char in message)\n",
        "\n",
        "    # Pad the message to fit the image\n",
        "    binary_message += '0' * (width * height * 3 - len(binary_message))\n",
        "\n",
        "    index = 0\n",
        "\n",
        "    for row in range(height):\n",
        "        for col in range(width):\n",
        "            pixel = list(img.getpixel((col, row)))\n",
        "            for color_channel in range(3):  # Red, Green, Blue\n",
        "                pixel[color_channel] = pixel[color_channel] & 0xFE | int(binary_message[index])\n",
        "                index += 1\n",
        "            img.putpixel((col, row), tuple(pixel))\n",
        "\n",
        "    img.save(output_path)\n",
        "    print(\"Message encoded successfully.\")\n",
        "\n",
        "# Example usage:\n",
        "encode_text(\"original_image.png\", \"This is a secret message!\", \"encoded_image.png\")\n"
      ]
    }
  ]
}